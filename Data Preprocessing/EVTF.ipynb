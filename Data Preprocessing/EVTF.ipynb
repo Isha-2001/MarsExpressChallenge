{
 "cells": [
  {
   "cell_type": "markdown",
   "metadata": {},
   "source": [
    "### Imports and Initial Inspections"
   ]
  },
  {
   "cell_type": "code",
   "execution_count": 1,
   "metadata": {},
   "outputs": [],
   "source": [
    "import os\n",
    "import pandas as pd\n",
    "import seaborn as sns\n",
    "import numpy as np\n",
    "from datetime import datetime, timedelta\n",
    "evtf_1 = pd.read_csv(\"context--2008-08-22_2010-07-10--evtf.csv\")\n",
    "evtf_2 = pd.read_csv(\"context--2010-07-10_2012-05-27--evtf.csv\")\n",
    "evtf_3 = pd.read_csv(\"context--2012-05-27_2014-04-14--evtf.csv\")\n",
    "evtf = pd.concat([evtf_1, evtf_2, evtf_3])"
   ]
  },
  {
   "cell_type": "code",
   "execution_count": 2,
   "metadata": {},
   "outputs": [
    {
     "name": "stdout",
     "output_type": "stream",
     "text": [
      "(240159, 2)\n",
      "              ut_ms\n",
      "count  2.401590e+05\n",
      "mean   1.311298e+12\n",
      "std    5.176256e+10\n",
      "min    1.219364e+12\n",
      "25%    1.266345e+12\n",
      "50%    1.312177e+12\n",
      "75%    1.356946e+12\n",
      "max    1.397434e+12\n",
      "<class 'pandas.core.frame.DataFrame'>\n",
      "Index: 240159 entries, 0 to 88174\n",
      "Data columns (total 2 columns):\n",
      " #   Column       Non-Null Count   Dtype \n",
      "---  ------       --------------   ----- \n",
      " 0   ut_ms        240159 non-null  int64 \n",
      " 1   description  240159 non-null  object\n",
      "dtypes: int64(1), object(1)\n",
      "memory usage: 5.5+ MB\n",
      "None\n",
      "89355\n"
     ]
    }
   ],
   "source": [
    "print(evtf.shape)\n",
    "print(evtf.describe())\n",
    "print(evtf.info())\n",
    "print(evtf['description'].nunique())"
   ]
  },
  {
   "cell_type": "code",
   "execution_count": 3,
   "metadata": {},
   "outputs": [],
   "source": [
    "# Figure out the time granularity\n",
    "evtf['ut_ms_difference'] = evtf['ut_ms'].diff()\n",
    "# unique values\n",
    "evtf['ut_ms_difference'].value_counts()\n",
    "evtf.drop('ut_ms_difference', axis=1, inplace=True)"
   ]
  },
  {
   "cell_type": "markdown",
   "metadata": {},
   "source": [
    "### Some timestamps have duplicated values.\n",
    "### Concatenate the descriptions of those rows to fix the issue."
   ]
  },
  {
   "cell_type": "code",
   "execution_count": 4,
   "metadata": {},
   "outputs": [],
   "source": [
    "# Convert 'ut_ms' to datetime\n",
    "evtf['timestamp'] = pd.to_datetime(evtf['ut_ms'], unit='ms')\n",
    "\n",
    "# Group by 'ut_ms' and concatenate the 'description' values of duplicated timestamps\n",
    "evtf_grouped = evtf.groupby('timestamp')['description'].apply(', '.join).reset_index()\n",
    "evtf = pd.merge(evtf_grouped, evtf, on='timestamp', how='left', suffixes=('', '_y'))\n",
    "evtf.drop('description_y', axis=1, inplace=True)\n",
    "evtf = evtf.drop_duplicates(subset='timestamp', keep='first')\n",
    "\n",
    "# For troubleshooting\n",
    "evtf.to_csv('evtf_updated_desc.csv', index=False)"
   ]
  },
  {
   "cell_type": "code",
   "execution_count": 5,
   "metadata": {},
   "outputs": [
    {
     "data": {
      "text/plain": [
       "'\\n#Only keep relevant events\\nevtf = evtf[evtf[\\'description\\'].str.contains(\\n    \"__KM__ASCEND|_KM_DESCEND|__PENUMBRA_|_UMBRA_|PERICENTRE_\", regex=True)]\\n    \\n'"
      ]
     },
     "execution_count": 5,
     "metadata": {},
     "output_type": "execute_result"
    }
   ],
   "source": [
    "'''\n",
    "#Only keep relevant events\n",
    "evtf = evtf[evtf['description'].str.contains(\n",
    "    \"__KM__ASCEND|_KM_DESCEND|__PENUMBRA_|_UMBRA_|PERICENTRE_\", regex=True)]\n",
    "    \n",
    "'''"
   ]
  },
  {
   "cell_type": "markdown",
   "metadata": {},
   "source": [
    "### Create  Features"
   ]
  },
  {
   "cell_type": "code",
   "execution_count": 6,
   "metadata": {},
   "outputs": [
    {
     "name": "stderr",
     "output_type": "stream",
     "text": [
      "C:\\Users\\RaiN\\AppData\\Local\\Temp\\ipykernel_34564\\940153004.py:5: FutureWarning: DataFrame.fillna with 'method' is deprecated and will raise in a future version. Use obj.ffill() or obj.bfill() instead.\n",
      "  evtf[['altitude', 'direction']] = evtf[['altitude', 'direction']].fillna(method='ffill')\n",
      "C:\\Users\\RaiN\\AppData\\Local\\Temp\\ipykernel_34564\\940153004.py:17: FutureWarning: DataFrame.fillna with 'method' is deprecated and will raise in a future version. Use obj.ffill() or obj.bfill() instead.\n",
      "  evtf[['umbra', 'penumbra']] = evtf[['umbra', 'penumbra']].fillna(method='ffill')\n"
     ]
    }
   ],
   "source": [
    "# Extract altitude and direction from description\n",
    "evtf['altitude'] = evtf['description'].apply(lambda x: int(x.split('_KM_')[0]) if '_KM_ASCEND' in x or '_KM_DESCEND' in x else None)\n",
    "evtf['direction'] = evtf['description'].apply(lambda x: 1 if '_KM_ASCEND' in x else (-1 if '_KM_DESCEND' in x else None))\n",
    "# Forward fill the NaN values to persist altitude until next ascend or descend\n",
    "evtf[['altitude', 'direction']] = evtf[['altitude', 'direction']].fillna(method='ffill')\n",
    "# Set reference (starting) altitude to zero\n",
    "evtf['altitude'].fillna(0, inplace=True)\n",
    "# Set initial direction to the opposite of the first direction event\n",
    "first_direction_event = evtf['direction'].dropna().iloc[0]\n",
    "initial_direction = -1 if first_direction_event == 1 else 1\n",
    "evtf['direction'].fillna(initial_direction, inplace=True)\n",
    "\n",
    "\n",
    "# Create binary indicators for umbra and penumbra events\n",
    "evtf['umbra'] = evtf['description'].apply(lambda x: 1 if '_UMBRA_START' in x else (0 if '_UMBRA_END' in x else None))\n",
    "evtf['penumbra'] = evtf['description'].apply(lambda x: 1 if '_PENUMBRA_START' in x else (0 if 'PENUMBRA_END' in x else None))\n",
    "evtf[['umbra', 'penumbra']] = evtf[['umbra', 'penumbra']].fillna(method='ffill')\n",
    "# Set initial value to the opposite of the first start/end event\n",
    "first_umbra_event = evtf['umbra'].dropna().iloc[0]\n",
    "initial_umbra = 0 if first_umbra_event == 1 else 1\n",
    "evtf['umbra'].fillna(initial_umbra, inplace=True)\n",
    "first_penumbra_event = evtf['penumbra'].dropna().iloc[0]\n",
    "initial_penumbra = 0 if first_penumbra_event == 1 else 1\n",
    "evtf['penumbra'].fillna(initial_penumbra, inplace=True)\n",
    "\n",
    "\n",
    "# Create 'time since last pericentre' feature\n",
    "# Find the max pericentre passage timestamp that is less/earlier than the current timestamp\n",
    "pericentre_passages = evtf[evtf['description'].str.contains('PERICENTRE')]\n",
    "evtf['time_since_last_pericentre_ms'] = evtf['ut_ms'] - evtf['ut_ms'].apply(lambda x: pericentre_passages[pericentre_passages['ut_ms'] <= x]['ut_ms'].max())\n",
    "\n",
    "# Impute the first few missing values\n",
    "# Estimate the last (unknown) pericentre timestamp first\n",
    "median_pericentre_diff = pericentre_passages['ut_ms'].diff().median()\n",
    "def impute_missing_pericentre_values(row):\n",
    "    if pd.isna(row['time_since_last_pericentre_ms']):\n",
    "        last_known_pericentre = pericentre_passages['ut_ms'].min()\n",
    "        estimated_last_pericentre = last_known_pericentre - median_pericentre_diff\n",
    "        return row['ut_ms'] - estimated_last_pericentre\n",
    "    else:\n",
    "        return row['time_since_last_pericentre_ms']\n",
    "\n",
    "evtf['time_since_last_pericentre_ms'] = evtf.apply(impute_missing_pericentre_values, axis=1)"
   ]
  },
  {
   "cell_type": "code",
   "execution_count": 7,
   "metadata": {},
   "outputs": [
    {
     "name": "stderr",
     "output_type": "stream",
     "text": [
      "C:\\Users\\RaiN\\AppData\\Local\\Temp\\ipykernel_34564\\3949406761.py:7: FutureWarning: DataFrame.fillna with 'method' is deprecated and will raise in a future version. Use obj.ffill() or obj.bfill() instead.\n",
      "  evtf_resampled.fillna(method='bfill', inplace=True)\n"
     ]
    }
   ],
   "source": [
    "# resample to an hourly time granularity\n",
    "evtf.set_index('timestamp', inplace=True)\n",
    "\n",
    "evtf.to_csv('evtf_train_without_resampling.csv', index= True)\n",
    "evtf_resampled = evtf.resample('H').ffill()\n",
    "evtf_resampled.drop(['description', 'ut_ms'], axis=1, inplace=True)\n",
    "evtf_resampled.fillna(method='bfill', inplace=True)\n",
    "\n",
    "evtf_resampled.to_csv('evtf_train.csv', index= True)"
   ]
  },
  {
   "cell_type": "code",
   "execution_count": 8,
   "metadata": {},
   "outputs": [
    {
     "ename": "FileNotFoundError",
     "evalue": "[Errno 2] No such file or directory: 'context--2014-04-14_2016-03-01--evtf'",
     "output_type": "error",
     "traceback": [
      "\u001b[1;31m---------------------------------------------------------------------------\u001b[0m",
      "\u001b[1;31mFileNotFoundError\u001b[0m                         Traceback (most recent call last)",
      "Cell \u001b[1;32mIn[8], line 1\u001b[0m\n\u001b[1;32m----> 1\u001b[0m evtf_test \u001b[38;5;241m=\u001b[39m \u001b[43mpd\u001b[49m\u001b[38;5;241;43m.\u001b[39;49m\u001b[43mread_csv\u001b[49m\u001b[43m(\u001b[49m\u001b[38;5;124;43m\"\u001b[39;49m\u001b[38;5;124;43mcontext--2014-04-14_2016-03-01--evtf\u001b[39;49m\u001b[38;5;124;43m\"\u001b[39;49m\u001b[43m)\u001b[49m\n\u001b[0;32m      2\u001b[0m evtf_test[\u001b[38;5;124m'\u001b[39m\u001b[38;5;124mtimestamp\u001b[39m\u001b[38;5;124m'\u001b[39m] \u001b[38;5;241m=\u001b[39m pd\u001b[38;5;241m.\u001b[39mto_datetime(evtf_test[\u001b[38;5;124m'\u001b[39m\u001b[38;5;124mut_ms\u001b[39m\u001b[38;5;124m'\u001b[39m], unit\u001b[38;5;241m=\u001b[39m\u001b[38;5;124m'\u001b[39m\u001b[38;5;124mms\u001b[39m\u001b[38;5;124m'\u001b[39m)\n\u001b[0;32m      3\u001b[0m evtf_test\u001b[38;5;241m.\u001b[39mset_index(\u001b[38;5;124m'\u001b[39m\u001b[38;5;124mtimestamp\u001b[39m\u001b[38;5;124m'\u001b[39m, inplace\u001b[38;5;241m=\u001b[39m\u001b[38;5;28;01mTrue\u001b[39;00m)\n",
      "File \u001b[1;32mc:\\Users\\RaiN\\AppData\\Local\\Programs\\Python\\Python312\\Lib\\site-packages\\pandas\\io\\parsers\\readers.py:948\u001b[0m, in \u001b[0;36mread_csv\u001b[1;34m(filepath_or_buffer, sep, delimiter, header, names, index_col, usecols, dtype, engine, converters, true_values, false_values, skipinitialspace, skiprows, skipfooter, nrows, na_values, keep_default_na, na_filter, verbose, skip_blank_lines, parse_dates, infer_datetime_format, keep_date_col, date_parser, date_format, dayfirst, cache_dates, iterator, chunksize, compression, thousands, decimal, lineterminator, quotechar, quoting, doublequote, escapechar, comment, encoding, encoding_errors, dialect, on_bad_lines, delim_whitespace, low_memory, memory_map, float_precision, storage_options, dtype_backend)\u001b[0m\n\u001b[0;32m    935\u001b[0m kwds_defaults \u001b[38;5;241m=\u001b[39m _refine_defaults_read(\n\u001b[0;32m    936\u001b[0m     dialect,\n\u001b[0;32m    937\u001b[0m     delimiter,\n\u001b[1;32m   (...)\u001b[0m\n\u001b[0;32m    944\u001b[0m     dtype_backend\u001b[38;5;241m=\u001b[39mdtype_backend,\n\u001b[0;32m    945\u001b[0m )\n\u001b[0;32m    946\u001b[0m kwds\u001b[38;5;241m.\u001b[39mupdate(kwds_defaults)\n\u001b[1;32m--> 948\u001b[0m \u001b[38;5;28;01mreturn\u001b[39;00m \u001b[43m_read\u001b[49m\u001b[43m(\u001b[49m\u001b[43mfilepath_or_buffer\u001b[49m\u001b[43m,\u001b[49m\u001b[43m \u001b[49m\u001b[43mkwds\u001b[49m\u001b[43m)\u001b[49m\n",
      "File \u001b[1;32mc:\\Users\\RaiN\\AppData\\Local\\Programs\\Python\\Python312\\Lib\\site-packages\\pandas\\io\\parsers\\readers.py:611\u001b[0m, in \u001b[0;36m_read\u001b[1;34m(filepath_or_buffer, kwds)\u001b[0m\n\u001b[0;32m    608\u001b[0m _validate_names(kwds\u001b[38;5;241m.\u001b[39mget(\u001b[38;5;124m\"\u001b[39m\u001b[38;5;124mnames\u001b[39m\u001b[38;5;124m\"\u001b[39m, \u001b[38;5;28;01mNone\u001b[39;00m))\n\u001b[0;32m    610\u001b[0m \u001b[38;5;66;03m# Create the parser.\u001b[39;00m\n\u001b[1;32m--> 611\u001b[0m parser \u001b[38;5;241m=\u001b[39m \u001b[43mTextFileReader\u001b[49m\u001b[43m(\u001b[49m\u001b[43mfilepath_or_buffer\u001b[49m\u001b[43m,\u001b[49m\u001b[43m \u001b[49m\u001b[38;5;241;43m*\u001b[39;49m\u001b[38;5;241;43m*\u001b[39;49m\u001b[43mkwds\u001b[49m\u001b[43m)\u001b[49m\n\u001b[0;32m    613\u001b[0m \u001b[38;5;28;01mif\u001b[39;00m chunksize \u001b[38;5;129;01mor\u001b[39;00m iterator:\n\u001b[0;32m    614\u001b[0m     \u001b[38;5;28;01mreturn\u001b[39;00m parser\n",
      "File \u001b[1;32mc:\\Users\\RaiN\\AppData\\Local\\Programs\\Python\\Python312\\Lib\\site-packages\\pandas\\io\\parsers\\readers.py:1448\u001b[0m, in \u001b[0;36mTextFileReader.__init__\u001b[1;34m(self, f, engine, **kwds)\u001b[0m\n\u001b[0;32m   1445\u001b[0m     \u001b[38;5;28mself\u001b[39m\u001b[38;5;241m.\u001b[39moptions[\u001b[38;5;124m\"\u001b[39m\u001b[38;5;124mhas_index_names\u001b[39m\u001b[38;5;124m\"\u001b[39m] \u001b[38;5;241m=\u001b[39m kwds[\u001b[38;5;124m\"\u001b[39m\u001b[38;5;124mhas_index_names\u001b[39m\u001b[38;5;124m\"\u001b[39m]\n\u001b[0;32m   1447\u001b[0m \u001b[38;5;28mself\u001b[39m\u001b[38;5;241m.\u001b[39mhandles: IOHandles \u001b[38;5;241m|\u001b[39m \u001b[38;5;28;01mNone\u001b[39;00m \u001b[38;5;241m=\u001b[39m \u001b[38;5;28;01mNone\u001b[39;00m\n\u001b[1;32m-> 1448\u001b[0m \u001b[38;5;28mself\u001b[39m\u001b[38;5;241m.\u001b[39m_engine \u001b[38;5;241m=\u001b[39m \u001b[38;5;28;43mself\u001b[39;49m\u001b[38;5;241;43m.\u001b[39;49m\u001b[43m_make_engine\u001b[49m\u001b[43m(\u001b[49m\u001b[43mf\u001b[49m\u001b[43m,\u001b[49m\u001b[43m \u001b[49m\u001b[38;5;28;43mself\u001b[39;49m\u001b[38;5;241;43m.\u001b[39;49m\u001b[43mengine\u001b[49m\u001b[43m)\u001b[49m\n",
      "File \u001b[1;32mc:\\Users\\RaiN\\AppData\\Local\\Programs\\Python\\Python312\\Lib\\site-packages\\pandas\\io\\parsers\\readers.py:1705\u001b[0m, in \u001b[0;36mTextFileReader._make_engine\u001b[1;34m(self, f, engine)\u001b[0m\n\u001b[0;32m   1703\u001b[0m     \u001b[38;5;28;01mif\u001b[39;00m \u001b[38;5;124m\"\u001b[39m\u001b[38;5;124mb\u001b[39m\u001b[38;5;124m\"\u001b[39m \u001b[38;5;129;01mnot\u001b[39;00m \u001b[38;5;129;01min\u001b[39;00m mode:\n\u001b[0;32m   1704\u001b[0m         mode \u001b[38;5;241m+\u001b[39m\u001b[38;5;241m=\u001b[39m \u001b[38;5;124m\"\u001b[39m\u001b[38;5;124mb\u001b[39m\u001b[38;5;124m\"\u001b[39m\n\u001b[1;32m-> 1705\u001b[0m \u001b[38;5;28mself\u001b[39m\u001b[38;5;241m.\u001b[39mhandles \u001b[38;5;241m=\u001b[39m \u001b[43mget_handle\u001b[49m\u001b[43m(\u001b[49m\n\u001b[0;32m   1706\u001b[0m \u001b[43m    \u001b[49m\u001b[43mf\u001b[49m\u001b[43m,\u001b[49m\n\u001b[0;32m   1707\u001b[0m \u001b[43m    \u001b[49m\u001b[43mmode\u001b[49m\u001b[43m,\u001b[49m\n\u001b[0;32m   1708\u001b[0m \u001b[43m    \u001b[49m\u001b[43mencoding\u001b[49m\u001b[38;5;241;43m=\u001b[39;49m\u001b[38;5;28;43mself\u001b[39;49m\u001b[38;5;241;43m.\u001b[39;49m\u001b[43moptions\u001b[49m\u001b[38;5;241;43m.\u001b[39;49m\u001b[43mget\u001b[49m\u001b[43m(\u001b[49m\u001b[38;5;124;43m\"\u001b[39;49m\u001b[38;5;124;43mencoding\u001b[39;49m\u001b[38;5;124;43m\"\u001b[39;49m\u001b[43m,\u001b[49m\u001b[43m \u001b[49m\u001b[38;5;28;43;01mNone\u001b[39;49;00m\u001b[43m)\u001b[49m\u001b[43m,\u001b[49m\n\u001b[0;32m   1709\u001b[0m \u001b[43m    \u001b[49m\u001b[43mcompression\u001b[49m\u001b[38;5;241;43m=\u001b[39;49m\u001b[38;5;28;43mself\u001b[39;49m\u001b[38;5;241;43m.\u001b[39;49m\u001b[43moptions\u001b[49m\u001b[38;5;241;43m.\u001b[39;49m\u001b[43mget\u001b[49m\u001b[43m(\u001b[49m\u001b[38;5;124;43m\"\u001b[39;49m\u001b[38;5;124;43mcompression\u001b[39;49m\u001b[38;5;124;43m\"\u001b[39;49m\u001b[43m,\u001b[49m\u001b[43m \u001b[49m\u001b[38;5;28;43;01mNone\u001b[39;49;00m\u001b[43m)\u001b[49m\u001b[43m,\u001b[49m\n\u001b[0;32m   1710\u001b[0m \u001b[43m    \u001b[49m\u001b[43mmemory_map\u001b[49m\u001b[38;5;241;43m=\u001b[39;49m\u001b[38;5;28;43mself\u001b[39;49m\u001b[38;5;241;43m.\u001b[39;49m\u001b[43moptions\u001b[49m\u001b[38;5;241;43m.\u001b[39;49m\u001b[43mget\u001b[49m\u001b[43m(\u001b[49m\u001b[38;5;124;43m\"\u001b[39;49m\u001b[38;5;124;43mmemory_map\u001b[39;49m\u001b[38;5;124;43m\"\u001b[39;49m\u001b[43m,\u001b[49m\u001b[43m \u001b[49m\u001b[38;5;28;43;01mFalse\u001b[39;49;00m\u001b[43m)\u001b[49m\u001b[43m,\u001b[49m\n\u001b[0;32m   1711\u001b[0m \u001b[43m    \u001b[49m\u001b[43mis_text\u001b[49m\u001b[38;5;241;43m=\u001b[39;49m\u001b[43mis_text\u001b[49m\u001b[43m,\u001b[49m\n\u001b[0;32m   1712\u001b[0m \u001b[43m    \u001b[49m\u001b[43merrors\u001b[49m\u001b[38;5;241;43m=\u001b[39;49m\u001b[38;5;28;43mself\u001b[39;49m\u001b[38;5;241;43m.\u001b[39;49m\u001b[43moptions\u001b[49m\u001b[38;5;241;43m.\u001b[39;49m\u001b[43mget\u001b[49m\u001b[43m(\u001b[49m\u001b[38;5;124;43m\"\u001b[39;49m\u001b[38;5;124;43mencoding_errors\u001b[39;49m\u001b[38;5;124;43m\"\u001b[39;49m\u001b[43m,\u001b[49m\u001b[43m \u001b[49m\u001b[38;5;124;43m\"\u001b[39;49m\u001b[38;5;124;43mstrict\u001b[39;49m\u001b[38;5;124;43m\"\u001b[39;49m\u001b[43m)\u001b[49m\u001b[43m,\u001b[49m\n\u001b[0;32m   1713\u001b[0m \u001b[43m    \u001b[49m\u001b[43mstorage_options\u001b[49m\u001b[38;5;241;43m=\u001b[39;49m\u001b[38;5;28;43mself\u001b[39;49m\u001b[38;5;241;43m.\u001b[39;49m\u001b[43moptions\u001b[49m\u001b[38;5;241;43m.\u001b[39;49m\u001b[43mget\u001b[49m\u001b[43m(\u001b[49m\u001b[38;5;124;43m\"\u001b[39;49m\u001b[38;5;124;43mstorage_options\u001b[39;49m\u001b[38;5;124;43m\"\u001b[39;49m\u001b[43m,\u001b[49m\u001b[43m \u001b[49m\u001b[38;5;28;43;01mNone\u001b[39;49;00m\u001b[43m)\u001b[49m\u001b[43m,\u001b[49m\n\u001b[0;32m   1714\u001b[0m \u001b[43m\u001b[49m\u001b[43m)\u001b[49m\n\u001b[0;32m   1715\u001b[0m \u001b[38;5;28;01massert\u001b[39;00m \u001b[38;5;28mself\u001b[39m\u001b[38;5;241m.\u001b[39mhandles \u001b[38;5;129;01mis\u001b[39;00m \u001b[38;5;129;01mnot\u001b[39;00m \u001b[38;5;28;01mNone\u001b[39;00m\n\u001b[0;32m   1716\u001b[0m f \u001b[38;5;241m=\u001b[39m \u001b[38;5;28mself\u001b[39m\u001b[38;5;241m.\u001b[39mhandles\u001b[38;5;241m.\u001b[39mhandle\n",
      "File \u001b[1;32mc:\\Users\\RaiN\\AppData\\Local\\Programs\\Python\\Python312\\Lib\\site-packages\\pandas\\io\\common.py:863\u001b[0m, in \u001b[0;36mget_handle\u001b[1;34m(path_or_buf, mode, encoding, compression, memory_map, is_text, errors, storage_options)\u001b[0m\n\u001b[0;32m    858\u001b[0m \u001b[38;5;28;01melif\u001b[39;00m \u001b[38;5;28misinstance\u001b[39m(handle, \u001b[38;5;28mstr\u001b[39m):\n\u001b[0;32m    859\u001b[0m     \u001b[38;5;66;03m# Check whether the filename is to be opened in binary mode.\u001b[39;00m\n\u001b[0;32m    860\u001b[0m     \u001b[38;5;66;03m# Binary mode does not support 'encoding' and 'newline'.\u001b[39;00m\n\u001b[0;32m    861\u001b[0m     \u001b[38;5;28;01mif\u001b[39;00m ioargs\u001b[38;5;241m.\u001b[39mencoding \u001b[38;5;129;01mand\u001b[39;00m \u001b[38;5;124m\"\u001b[39m\u001b[38;5;124mb\u001b[39m\u001b[38;5;124m\"\u001b[39m \u001b[38;5;129;01mnot\u001b[39;00m \u001b[38;5;129;01min\u001b[39;00m ioargs\u001b[38;5;241m.\u001b[39mmode:\n\u001b[0;32m    862\u001b[0m         \u001b[38;5;66;03m# Encoding\u001b[39;00m\n\u001b[1;32m--> 863\u001b[0m         handle \u001b[38;5;241m=\u001b[39m \u001b[38;5;28;43mopen\u001b[39;49m\u001b[43m(\u001b[49m\n\u001b[0;32m    864\u001b[0m \u001b[43m            \u001b[49m\u001b[43mhandle\u001b[49m\u001b[43m,\u001b[49m\n\u001b[0;32m    865\u001b[0m \u001b[43m            \u001b[49m\u001b[43mioargs\u001b[49m\u001b[38;5;241;43m.\u001b[39;49m\u001b[43mmode\u001b[49m\u001b[43m,\u001b[49m\n\u001b[0;32m    866\u001b[0m \u001b[43m            \u001b[49m\u001b[43mencoding\u001b[49m\u001b[38;5;241;43m=\u001b[39;49m\u001b[43mioargs\u001b[49m\u001b[38;5;241;43m.\u001b[39;49m\u001b[43mencoding\u001b[49m\u001b[43m,\u001b[49m\n\u001b[0;32m    867\u001b[0m \u001b[43m            \u001b[49m\u001b[43merrors\u001b[49m\u001b[38;5;241;43m=\u001b[39;49m\u001b[43merrors\u001b[49m\u001b[43m,\u001b[49m\n\u001b[0;32m    868\u001b[0m \u001b[43m            \u001b[49m\u001b[43mnewline\u001b[49m\u001b[38;5;241;43m=\u001b[39;49m\u001b[38;5;124;43m\"\u001b[39;49m\u001b[38;5;124;43m\"\u001b[39;49m\u001b[43m,\u001b[49m\n\u001b[0;32m    869\u001b[0m \u001b[43m        \u001b[49m\u001b[43m)\u001b[49m\n\u001b[0;32m    870\u001b[0m     \u001b[38;5;28;01melse\u001b[39;00m:\n\u001b[0;32m    871\u001b[0m         \u001b[38;5;66;03m# Binary mode\u001b[39;00m\n\u001b[0;32m    872\u001b[0m         handle \u001b[38;5;241m=\u001b[39m \u001b[38;5;28mopen\u001b[39m(handle, ioargs\u001b[38;5;241m.\u001b[39mmode)\n",
      "\u001b[1;31mFileNotFoundError\u001b[0m: [Errno 2] No such file or directory: 'context--2014-04-14_2016-03-01--evtf'"
     ]
    }
   ],
   "source": [
    "evtf_test = pd.read_csv(\"context--2014-04-14_2016-03-01--evtf\")\n",
    "evtf_test['timestamp'] = pd.to_datetime(evtf_test['ut_ms'], unit='ms')\n",
    "evtf_test.set_index('timestamp', inplace=True)\n",
    "\n",
    "# Extract altitude and direction from description\n",
    "evtf_test['altitude'] = evtf_test['description'].apply(lambda x: int(x.split('_KM_')[0]) if '_KM_ASCEND' in x or '_KM_DESCEND' in x else None)\n",
    "evtf_test['direction'] = evtf_test['description'].apply(lambda x: 1 if '_KM_ASCEND' in x else (-1 if '_KM_DESCEND' in x else None))\n",
    "# Forward fill the NaN values to persist altitude until next ascend or descend\n",
    "evtf_test[['altitude', 'direction']] = evtf_test[['altitude', 'direction']].ffill()\n",
    "# Set reference (starting) altitude to zero\n",
    "evtf_test['altitude'].fillna(0, inplace=True)\n",
    "# Set initial direction to the opposite of the first direction event\n",
    "first_direction_event = evtf_test['direction'].dropna().iloc[0]\n",
    "initial_direction = -1 if first_direction_event == 1 else 1\n",
    "evtf_test['direction'].fillna(initial_direction, inplace=True)\n",
    "\n",
    "# Create binary indicators for umbra and penumbra events\n",
    "evtf_test['umbra'] = evtf_test['description'].apply(lambda x: 1 if '_UMBRA_START' in x else (0 if '_UMBRA_END' in x else None))\n",
    "evtf_test['penumbra'] = evtf_test['description'].apply(lambda x: 1 if '_PENUMBRA_START' in x else (0 if '_PENUMBRA_END' in x else None))\n",
    "evtf_test[['umbra', 'penumbra']] = evtf_test[['umbra', 'penumbra']].ffill()\n",
    "# Set initial value to the opposite of the first start/end event\n",
    "first_umbra_event = evtf_test['umbra'].dropna().iloc[0]\n",
    "initial_umbra = 0 if first_umbra_event == 1 else 1\n",
    "evtf_test['umbra'].fillna(initial_umbra, inplace=True)\n",
    "first_penumbra_event = evtf_test['penumbra'].dropna().iloc[0]\n",
    "initial_penumbra = 0 if first_penumbra_event == 1 else 1\n",
    "evtf_test['penumbra'].fillna(initial_penumbra, inplace=True)\n",
    "\n",
    "# Create 'time since last pericentre' feature\n",
    "pericentre_passages = evtf_test[evtf_test['description'].str.contains('PERICENTRE')]\n",
    "evtf_test['time_since_last_pericentre_ms'] = evtf_test['ut_ms'] - evtf_test['ut_ms'].apply(lambda x: pericentre_passages[pericentre_passages['ut_ms'] <= x]['ut_ms'].max())\n",
    "\n",
    "# Impute the first few missing values\n",
    "median_pericentre_diff = pericentre_passages['ut_ms'].diff().median()\n",
    "evtf_test['time_since_last_pericentre_ms'] = evtf_test.apply(lambda row: row['ut_ms'] - (pericentre_passages['ut_ms'].min() - median_pericentre_diff) if pd.isna(row['time_since_last_pericentre_ms']) else row['time_since_last_pericentre_ms'], axis=1)"
   ]
  },
  {
   "cell_type": "code",
   "execution_count": null,
   "metadata": {},
   "outputs": [],
   "source": [
    "# resample to an hourly time granularity\n",
    "evtf_test_resampled = evtf_test.resample('H').ffill()\n",
    "evtf_test_resampled.drop(['description', 'ut_ms'], axis=1, inplace=True)\n",
    "\n",
    "evtf_test_resampled.fillna(method='bfill', inplace=True)\n",
    "\n",
    "evtf_test_resampled.to_csv('evtf_test.csv', index=True)"
   ]
  }
 ],
 "metadata": {
  "kernelspec": {
   "display_name": "Python 3",
   "language": "python",
   "name": "python3"
  },
  "language_info": {
   "codemirror_mode": {
    "name": "ipython",
    "version": 3
   },
   "file_extension": ".py",
   "mimetype": "text/x-python",
   "name": "python",
   "nbconvert_exporter": "python",
   "pygments_lexer": "ipython3",
   "version": "3.12.0"
  }
 },
 "nbformat": 4,
 "nbformat_minor": 2
}
